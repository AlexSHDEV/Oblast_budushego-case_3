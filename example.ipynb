{
  "nbformat": 4,
  "nbformat_minor": 0,
  "metadata": {
    "colab": {
      "provenance": []
    },
    "kernelspec": {
      "name": "python3",
      "display_name": "Python 3"
    },
    "language_info": {
      "name": "python"
    }
  },
  "cells": [
    {
      "cell_type": "code",
      "execution_count": 4,
      "metadata": {
        "colab": {
          "base_uri": "https://localhost:8080/"
        },
        "id": "00s9vQoJLFbi",
        "outputId": "71ea322a-b700-4dd0-fe0e-66e00acd5aea"
      },
      "outputs": [
        {
          "output_type": "stream",
          "name": "stdout",
          "text": [
            "Исходный текст с ошибками:\n",
            "\n",
            "Пременение указаных сакций асуществляется надлежащими образом в установленном законам порядки и подлежит\n",
            "исполнению всеми сотрудниками организации незамедлительно.\n",
            "\n",
            "Подписано руководителем подразделения. Подлежит обязательному ознакомлению всех сотрудников пад роспись.\n",
            "    \n",
            "\n",
            "==================================================\n",
            "\n",
            "Исправленный текст:\n",
            "\n",
            "Применение указанных санкций осуществляется надлежащим образом в установленном законом порядке и подлежит\n",
            "исполнению всеми сотрудниками организации незамедлительно.\n",
            "\n",
            "Подписано руководителем подразделения. Подлежит обязательному ознакомлению всех сотрудников под роспись.\n",
            "    \n"
          ]
        }
      ],
      "source": [
        "import requests\n",
        "import json\n",
        "from typing import List, Dict\n",
        "\n",
        "class YandexSpeller:\n",
        "    def __init__(self):\n",
        "        self.url = \"https://speller.yandex.net/services/spellservice.json/checkTexts\"\n",
        "\n",
        "    def check_text(self, text: str) -> List[List[Dict]]:\n",
        "        \"\"\"Проверяет текст на орфографические ошибки\"\"\"\n",
        "        params = {\n",
        "            'text': text,\n",
        "            'lang': 'ru,en',\n",
        "            'options': 14\n",
        "        }\n",
        "\n",
        "        try:\n",
        "            response = requests.get(self.url, params=params)\n",
        "            response.raise_for_status()\n",
        "            return response.json()\n",
        "        except requests.exceptions.RequestException as e:\n",
        "            print(f\"Ошибка при запросе к Yandex Speller: {e}\")\n",
        "            return []\n",
        "\n",
        "    def correct_text(self, text: str) -> str:\n",
        "        \"\"\"Исправляет ошибки в тексте\"\"\"\n",
        "        sentences = text.split('. ')\n",
        "        corrected_sentences = []\n",
        "\n",
        "        for sentence in sentences:\n",
        "\n",
        "            errors = self.check_text(sentence)\n",
        "\n",
        "            if errors and errors[0]:\n",
        "                corrected_sentence = sentence\n",
        "                for error in sorted(errors[0], key=lambda x: x['pos'], reverse=True):\n",
        "                    if error['s']:\n",
        "\n",
        "                        start = error['pos']\n",
        "                        end = start + error['len']\n",
        "                        corrected_sentence = (corrected_sentence[:start] + error['s'][0] + corrected_sentence[end:])\n",
        "\n",
        "                corrected_sentences.append(corrected_sentence)\n",
        "            else:\n",
        "                corrected_sentences.append(sentence)\n",
        "\n",
        "        return '. '.join(corrected_sentences)\n",
        "\n",
        "\n",
        "def main():\n",
        "    speller = YandexSpeller()\n",
        "\n",
        "    text_with_errors = \"\"\"\n",
        "Пременение указаных сакций асуществляется надлежащими образом в установленном законам порядки и подлежит\n",
        "исполнению всеми сотрудниками организации незамедлительно.\n",
        "\n",
        "Подписано руководителем подразделения. Подлежит обязательному ознакомлению всех сотрудников пад роспись.\n",
        "    \"\"\"\n",
        "\n",
        "    print(\"Исходный текст с ошибками:\")\n",
        "    print(text_with_errors)\n",
        "    print(\"\\n\" + \"=\"*50 + \"\\n\")\n",
        "\n",
        "    corrected_text = speller.correct_text(text_with_errors)\n",
        "\n",
        "    print(\"Исправленный текст:\")\n",
        "    print(corrected_text)\n",
        "\n",
        "if __name__ == \"__main__\":\n",
        "    main()"
      ]
    },
    {
      "cell_type": "code",
      "source": [],
      "metadata": {
        "id": "Xm5A_rlC7MbQ"
      },
      "execution_count": null,
      "outputs": []
    }
  ]
}